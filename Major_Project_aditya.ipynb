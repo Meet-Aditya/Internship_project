{
  "nbformat": 4,
  "nbformat_minor": 0,
  "metadata": {
    "colab": {
      "provenance": [],
      "authorship_tag": "ABX9TyPOWp3RxohzsRc2nxXj74g9",
      "include_colab_link": true
    },
    "kernelspec": {
      "name": "python3",
      "display_name": "Python 3"
    },
    "language_info": {
      "name": "python"
    }
  },
  "cells": [
    {
      "cell_type": "markdown",
      "metadata": {
        "id": "view-in-github",
        "colab_type": "text"
      },
      "source": [
        "<a href=\"https://colab.research.google.com/github/Meet-Aditya/Internship_project/blob/main/Major_Project_aditya.ipynb\" target=\"_parent\"><img src=\"https://colab.research.google.com/assets/colab-badge.svg\" alt=\"Open In Colab\"/></a>"
      ]
    },
    {
      "cell_type": "markdown",
      "source": [
        "#INTRODUCTION"
      ],
      "metadata": {
        "id": "PaAYXoK9bFKf"
      }
    },
    {
      "cell_type": "markdown",
      "source": [
        "Aditya Pandey\n",
        "\n",
        "Major Project\n",
        "\n",
        "To-Do List\n",
        "\n",
        "Python Programming"
      ],
      "metadata": {
        "id": "OxCjOZEvbFzv"
      }
    },
    {
      "cell_type": "markdown",
      "source": [
        "#CODE"
      ],
      "metadata": {
        "id": "Ujk9dFPJbGrL"
      }
    },
    {
      "cell_type": "code",
      "source": [
        "\n",
        "import json\n",
        "\n",
        "class Task:\n",
        "    def __init__(self, title, description, category, due_date=None, priority=None, completed=False):\n",
        "        self.title = title\n",
        "        self.description = description\n",
        "        self.category = category\n",
        "        self.due_date = due_date\n",
        "        self.priority = priority\n",
        "        self.completed = completed\n",
        "\n",
        "    def mark_completed(self):\n",
        "        self.completed = True\n",
        "\n",
        "    def __str__(self):\n",
        "        return f\"{self.title} ({self.category})\"\n",
        "\n",
        "def load_tasks():\n",
        "    try:\n",
        "        with open(\"tasks.json\", \"r\") as f:\n",
        "            return [Task(**task) for task in json.load(f)]\n",
        "    except FileNotFoundError:\n",
        "        return []\n",
        "\n",
        "def save_tasks(tasks):\n",
        "    with open(\"tasks.json\", \"w\") as f:\n",
        "        json.dump([task.__dict__ for task in tasks], f, indent=4)\n",
        "\n",
        "def add_task(tasks):\n",
        "    title = input(\"Enter task title: \")\n",
        "    description = input(\"Enter task description: \")\n",
        "    category = input(\"Enter task category: \")\n",
        "    due_date = input(\"Enter due date (YYYY-MM-DD): \")\n",
        "    priority = input(\"Enter task priority (low, medium, high): \")\n",
        "\n",
        "    tasks.append(Task(title, description, category, due_date, priority))\n",
        "    save_tasks(tasks)\n",
        "\n",
        "def view_tasks(tasks):\n",
        "    if not tasks:\n",
        "        print(\"No tasks found.\")\n",
        "    else:\n",
        "        for task in tasks:\n",
        "            print(task)\n",
        "\n",
        "def edit_task(tasks):\n",
        "    task_index = int(input(\"Enter task index to edit: \"))\n",
        "    if 0 <= task_index < len(tasks):\n",
        "        task = tasks[task_index]\n",
        "        print(f\"Editing task: {task}\")\n",
        "        task.title = input(\"Enter new title (or press Enter to keep current): \") or task.title\n",
        "        task.description = input(\"Enter new description (or press Enter to keep current): \") or task.description\n",
        "        task.category = input(\"Enter new category (or press Enter to keep current): \") or task.category\n",
        "        due_date = input(\"Enter new due date (YYYY-MM-DD, or press Enter to keep current): \")\n",
        "        if due_date:\n",
        "            task.due_date = due_date\n",
        "        priority = input(\"Enter new priority (low, medium, high, or press Enter to keep current): \")\n",
        "        if priority:\n",
        "            task.priority = priority\n",
        "        save_tasks(tasks)\n",
        "    else:\n",
        "        print(\"Invalid task index.\")\n",
        "\n",
        "def delete_task(tasks):\n",
        "    task_index = int(input(\"Enter task index to delete: \"))\n",
        "    if 0 <= task_index < len(tasks):\n",
        "        del tasks[task_index]\n",
        "        save_tasks(tasks)\n",
        "    else:\n",
        "        print(\"Invalid task index.\")\n",
        "\n",
        "def mark_task_completed(tasks):\n",
        "    task_index = int(input(\"Enter task index to mark as completed: \"))\n",
        "    if 0 <= task_index < len(tasks):\n",
        "        tasks[task_index].mark_completed()\n",
        "        save_tasks(tasks)\n",
        "    else:\n",
        "        print(\"Invalid task index.\")\n",
        "\n",
        "def main():\n",
        "    tasks = load_tasks()\n",
        "\n",
        "    while True:\n",
        "        print(\"\\nMenu:\")\n",
        "        print(\"1. Add task\")\n",
        "        print(\"2. View tasks\")\n",
        "        print(\"3. Edit task\")\n",
        "        print(\"4. Delete task\")\n",
        "        print(\"5. Mark task as completed\")\n",
        "        print(\"6. Quit\")\n",
        "\n",
        "        choice = int(input(\"Enter your choice: \"))\n",
        "\n",
        "        if choice == 1:\n",
        "            add_task(tasks)\n",
        "        elif choice == 2:\n",
        "            view_tasks(tasks)\n",
        "        elif choice == 3:\n",
        "            edit_task(tasks)\n",
        "        elif choice == 4:\n",
        "            delete_task(tasks)\n",
        "        elif choice == 5:\n",
        "            mark_task_completed(tasks)\n",
        "        elif choice == 6:\n",
        "            break\n",
        "        else:\n",
        "            print(\"Invalid choice.\")\n",
        "\n",
        "if __name__ == \"__main__\":\n",
        "    main()"
      ],
      "metadata": {
        "colab": {
          "base_uri": "https://localhost:8080/"
        },
        "id": "WeEII2Aidbqr",
        "outputId": "f246b506-b65d-4abb-e3e1-74bf78648369"
      },
      "execution_count": null,
      "outputs": [
        {
          "name": "stdout",
          "output_type": "stream",
          "text": [
            "\n",
            "Menu:\n",
            "1. Add task\n",
            "2. View tasks\n",
            "3. Edit task\n",
            "4. Delete task\n",
            "5. Mark task as completed\n",
            "6. Quit\n",
            "Enter your choice: 1\n",
            "Enter task title: Wakeup\n",
            "Enter task description: 6:00am\n",
            "Enter task category: Routine\n",
            "Enter due date (YYYY-MM-DD): 2024-12-12\n",
            "Enter task priority (low, medium, high): Medium \n",
            "\n",
            "Menu:\n",
            "1. Add task\n",
            "2. View tasks\n",
            "3. Edit task\n",
            "4. Delete task\n",
            "5. Mark task as completed\n",
            "6. Quit\n",
            "Enter your choice: 2\n",
            "Wake Up (Routine)\n",
            "Wakeup (Routine )\n",
            "Wakeup (Routine)\n",
            "\n",
            "Menu:\n",
            "1. Add task\n",
            "2. View tasks\n",
            "3. Edit task\n",
            "4. Delete task\n",
            "5. Mark task as completed\n",
            "6. Quit\n",
            "Enter your choice: 5\n",
            "Enter task index to mark as completed: 1\n",
            "\n",
            "Menu:\n",
            "1. Add task\n",
            "2. View tasks\n",
            "3. Edit task\n",
            "4. Delete task\n",
            "5. Mark task as completed\n",
            "6. Quit\n",
            "Enter your choice: 4\n",
            "Enter task index to delete: 2\n",
            "\n",
            "Menu:\n",
            "1. Add task\n",
            "2. View tasks\n",
            "3. Edit task\n",
            "4. Delete task\n",
            "5. Mark task as completed\n",
            "6. Quit\n",
            "Enter your choice: 2\n",
            "Wake Up (Routine)\n",
            "Wakeup (Routine )\n",
            "\n",
            "Menu:\n",
            "1. Add task\n",
            "2. View tasks\n",
            "3. Edit task\n",
            "4. Delete task\n",
            "5. Mark task as completed\n",
            "6. Quit\n",
            "Enter your choice: 3\n",
            "Enter task index to edit: 1\n",
            "Editing task: Wakeup (Routine )\n",
            "Enter new title (or press Enter to keep current): Morning\n",
            "Enter new description (or press Enter to keep current): 5:00am\n",
            "Enter new category (or press Enter to keep current): \n",
            "Enter new due date (YYYY-MM-DD, or press Enter to keep current): \n",
            "Enter new priority (low, medium, high, or press Enter to keep current): \n",
            "\n",
            "Menu:\n",
            "1. Add task\n",
            "2. View tasks\n",
            "3. Edit task\n",
            "4. Delete task\n",
            "5. Mark task as completed\n",
            "6. Quit\n",
            "Enter your choice: 2\n",
            "Wake Up (Routine)\n",
            "Morning (Routine )\n",
            "\n",
            "Menu:\n",
            "1. Add task\n",
            "2. View tasks\n",
            "3. Edit task\n",
            "4. Delete task\n",
            "5. Mark task as completed\n",
            "6. Quit\n",
            "Enter your choice: 6\n"
          ]
        }
      ]
    },
    {
      "cell_type": "markdown",
      "source": [
        "#EXPLANATION"
      ],
      "metadata": {
        "id": "W6IrecskgHNq"
      }
    },
    {
      "cell_type": "markdown",
      "source": [
        "The provided Python code implements a to-do list application. It allows users to add, view, edit, delete, and mark tasks as completed. The code defines a Task class to represent individual tasks with attributes like title, description, category, due date, priority, and completion status. The application uses JSON files to persist task data, providing a simple and efficient way to save and load tasks. The code includes functions for each action, such as add_task, view_tasks, edit_task, delete_task, and mark_task_completed. The main loop of the application presents a menu of options to the user, allowing them to interact with the to-do list."
      ],
      "metadata": {
        "id": "sBXYr591gQ0T"
      }
    }
  ]
}