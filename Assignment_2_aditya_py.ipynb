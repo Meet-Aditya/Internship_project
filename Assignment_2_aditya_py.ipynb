{
  "nbformat": 4,
  "nbformat_minor": 0,
  "metadata": {
    "colab": {
      "provenance": [],
      "collapsed_sections": [
        "ZCDNSCqdYx_t",
        "2HTlsjnBZCCG",
        "HtFpzS3XZTnK"
      ],
      "mount_file_id": "1Q5dqAKb4BVEB4HziS5BKvzdAMc1YufLT",
      "authorship_tag": "ABX9TyOJyyMjqUVjioyFVi5t/KHC",
      "include_colab_link": true
    },
    "kernelspec": {
      "name": "python3",
      "display_name": "Python 3"
    },
    "language_info": {
      "name": "python"
    }
  },
  "cells": [
    {
      "cell_type": "markdown",
      "metadata": {
        "id": "view-in-github",
        "colab_type": "text"
      },
      "source": [
        "<a href=\"https://colab.research.google.com/github/Meet-Aditya/Internship_project/blob/main/Assignment_2_aditya_py.ipynb\" target=\"_parent\"><img src=\"https://colab.research.google.com/assets/colab-badge.svg\" alt=\"Open In Colab\"/></a>"
      ]
    },
    {
      "cell_type": "markdown",
      "source": [
        "# Introduction"
      ],
      "metadata": {
        "id": "ZCDNSCqdYx_t"
      }
    },
    {
      "cell_type": "markdown",
      "source": [
        "Aditya Pandey\n",
        "\n",
        "Assignment Number 2\n",
        "\n",
        "Caesar Cipher Encoder and decoder\n",
        "\n",
        "Python Programming Assignment"
      ],
      "metadata": {
        "id": "vyQSomPxZvT9"
      }
    },
    {
      "cell_type": "markdown",
      "source": [
        "# Code"
      ],
      "metadata": {
        "id": "2HTlsjnBZCCG"
      }
    },
    {
      "cell_type": "code",
      "source": [
        "def caesar_cipher(text, shift):\n",
        "  \"\"\"Encrypts or decrypts a text using the Caesar cipher.\n",
        "\n",
        "  Args:\n",
        "    text: The text to be encrypted or decrypted.\n",
        "    shift: The number of positions to shift the letters.\n",
        "\n",
        "  Returns:\n",
        "    The encrypted or decrypted text.\n",
        "  \"\"\"\n",
        "\n",
        "  result = \"\"\n",
        "  for char in text:\n",
        "    if char.isalpha():\n",
        "      # Ensure the shift stays within the alphabet range\n",
        "      if char.isupper():\n",
        "        result += chr((ord(char) + shift - 65) % 26 + 65)\n",
        "      else:\n",
        "        result += chr((ord(char) + shift - 97) % 26 + 97)\n",
        "    else:\n",
        "      result += char\n",
        "  return result\n",
        "\n",
        "def get_user_input():\n",
        "  \"\"\"Gets user input for the message and shift.\n",
        "\n",
        "  Returns:\n",
        "    A tuple containing the message and shift.\n",
        "  \"\"\"\n",
        "\n",
        "  message = input(\"Enter the message: \")\n",
        "  shift = int(input(\"Enter the shift: \"))\n",
        "  return message, shift\n",
        "\n",
        "def main():\n",
        "  \"\"\"Main function to handle the user interface and call the cipher function.\"\"\"\n",
        "\n",
        "  while True:\n",
        "    print(\"Choose an option:\")\n",
        "    print(\"1. Encode a message\")\n",
        "    print(\"2. Decode a message\")\n",
        "    print(\"3. Exit\")\n",
        "\n",
        "    choice = int(input(\"Enter your choice: \"))\n",
        "\n",
        "    if choice == 1:\n",
        "      message, shift = get_user_input()\n",
        "      encrypted_text = caesar_cipher(message, shift)\n",
        "      print(\"Encrypted message:\", encrypted_text)\n",
        "    elif choice == 2:\n",
        "      message, shift = get_user_input()\n",
        "      decrypted_text = caesar_cipher(message, -shift)\n",
        "      print(\"Decrypted message:\", decrypted_text)\n",
        "    elif choice == 3:\n",
        "      print(\"Exiting...\")\n",
        "      break\n",
        "    else:\n",
        "      print(\"Invalid choice. Please try again.\")\n",
        "\n",
        "if __name__ == \"__main__\":\n",
        "  main()"
      ],
      "metadata": {
        "colab": {
          "base_uri": "https://localhost:8080/"
        },
        "id": "M2a_jtIaVkQU",
        "outputId": "1e5fe8bf-e7b4-4878-a8a5-fe68b60888d7"
      },
      "execution_count": null,
      "outputs": [
        {
          "output_type": "stream",
          "name": "stdout",
          "text": [
            "Choose an option:\n",
            "1. Encode a message\n",
            "2. Decode a message\n",
            "3. Exit\n",
            "Enter your choice: 1\n",
            "Enter the message: Aditya \n",
            "Enter the shift: 6\n",
            "Encrypted message: Gjozeg \n",
            "Choose an option:\n",
            "1. Encode a message\n",
            "2. Decode a message\n",
            "3. Exit\n",
            "Enter your choice: 2\n",
            "Enter the message: Gjozeg\n",
            "Enter the shift: 6\n",
            "Decrypted message: Aditya\n",
            "Choose an option:\n",
            "1. Encode a message\n",
            "2. Decode a message\n",
            "3. Exit\n",
            "Enter your choice: 3\n",
            "Exiting...\n"
          ]
        }
      ]
    },
    {
      "cell_type": "markdown",
      "source": [
        "# Explanation"
      ],
      "metadata": {
        "id": "HtFpzS3XZTnK"
      }
    },
    {
      "cell_type": "markdown",
      "source": [
        "~ The provided Python code implements a simple secret code generator based on the Caesar cipher. The Caesar cipher is a type of substitution cipher where each letter in the plaintext is shifted a fixed number of positions down the alphabet.\n",
        "~ caesar_cipher function takes a text and a shift value as input and returns the encrypted or decrypted text using the Caesar cipher. It iterates over each character in the text and shifts it based on the shift value, ensuring that the shifted character stays within the the alphabet range. get_user_input: This function prompts the user to enter a message and a shift value and returns them as a tuple.\n",
        "main: This function serves as the main entry point of the program. It provides a menu to the user to choose between encoding or decoding a message. It calls the get_user_input function to obtain the necessary input and then calls the caesar_cipher function with the appropriate shift value to perform the encryption or decryption.\n",
        "The code continuously loops until the user chooses to exit, allowing them to encode or decode multiple messages."
      ],
      "metadata": {
        "id": "vp2AhcfEVevK"
      }
    }
  ]
}